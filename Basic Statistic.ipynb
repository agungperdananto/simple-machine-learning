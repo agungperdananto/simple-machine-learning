{
 "cells": [
  {
   "cell_type": "code",
   "execution_count": 1,
   "metadata": {},
   "outputs": [
    {
     "name": "stdout",
     "output_type": "stream",
     "text": [
      "10\n"
     ]
    }
   ],
   "source": [
    "import numpy as np\n",
    "from scipy import stats\n",
    "\n",
    "data_len = input()\n",
    "data_len = int(data_len)"
   ]
  },
  {
   "cell_type": "code",
   "execution_count": 2,
   "metadata": {},
   "outputs": [
    {
     "name": "stdout",
     "output_type": "stream",
     "text": [
      "64630 11735 14216 99233 14470 4978 73429 38120 51135 67060\n"
     ]
    }
   ],
   "source": [
    "data = np.array(input().split())\n",
    "data = data.astype(np.int32)"
   ]
  },
  {
   "cell_type": "code",
   "execution_count": 3,
   "metadata": {},
   "outputs": [
    {
     "data": {
      "text/plain": [
       "array([64630, 11735, 14216, 99233, 14470,  4978, 73429, 38120, 51135,\n",
       "       67060], dtype=int32)"
      ]
     },
     "execution_count": 3,
     "metadata": {},
     "output_type": "execute_result"
    }
   ],
   "source": [
    "data"
   ]
  },
  {
   "cell_type": "code",
   "execution_count": 4,
   "metadata": {},
   "outputs": [],
   "source": [
    "mean = np.mean(data)\n",
    "sigma = np.std(data) #standard deviation\n",
    "median = np.median(data)\n",
    "mode = stats.mode(data)\n",
    "ci = stats.norm.interval(0.950004, loc=mean, scale=sigma/np.sqrt(data_len))"
   ]
  },
  {
   "cell_type": "code",
   "execution_count": 9,
   "metadata": {},
   "outputs": [
    {
     "name": "stdout",
     "output_type": "stream",
     "text": [
      "Mean:  43900.6\n",
      "Median:  44627.5\n",
      "Smallest number:  4978\n",
      "standard Deviation:  30466.95\n",
      "lower_limit: 25017.01 upper_limit: 62784.19\n"
     ]
    }
   ],
   "source": [
    "print('Mean: ',round(mean,2))\n",
    "print('Median: ',round(median,2))\n",
    "print('Smallest number: ',round(mode[0][0],2))\n",
    "print('standard Deviation: ',round(sigma,2))\n",
    "print('lower_limit:',round(ci[0],2), 'upper_limit:',round(ci[1],2))"
   ]
  },
  {
   "cell_type": "code",
   "execution_count": null,
   "metadata": {},
   "outputs": [],
   "source": []
  },
  {
   "cell_type": "code",
   "execution_count": null,
   "metadata": {},
   "outputs": [],
   "source": []
  },
  {
   "cell_type": "code",
   "execution_count": null,
   "metadata": {},
   "outputs": [],
   "source": []
  }
 ],
 "metadata": {
  "kernelspec": {
   "display_name": "Python 3",
   "language": "python",
   "name": "python3"
  },
  "language_info": {
   "codemirror_mode": {
    "name": "ipython",
    "version": 3
   },
   "file_extension": ".py",
   "mimetype": "text/x-python",
   "name": "python",
   "nbconvert_exporter": "python",
   "pygments_lexer": "ipython3",
   "version": "3.6.5"
  }
 },
 "nbformat": 4,
 "nbformat_minor": 2
}
